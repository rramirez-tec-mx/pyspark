{
 "cells": [
  {
   "cell_type": "code",
   "execution_count": 1,
   "metadata": {
    "colab": {
     "base_uri": "https://localhost:8080/",
     "height": 36
    },
    "executionInfo": {
     "elapsed": 37470,
     "status": "ok",
     "timestamp": 1629687469375,
     "user": {
      "displayName": "Raúl Valente Ramírez Velarde",
      "photoUrl": "https://lh3.googleusercontent.com/a-/AOh14GjsTl_7K9-nt2Nuy6x1vdia7WL7K2k6yyrhPeq3=s64",
      "userId": "12033984646533146741"
     },
     "user_tz": 300
    },
    "id": "qKIs8FnS79e4",
    "outputId": "5ce31368-af06-4b84-b53f-e2ad87c499f7"
   },
   "outputs": [
    {
     "data": {
      "application/vnd.google.colaboratory.intrinsic+json": {
       "type": "string"
      },
      "text/plain": [
       "'2.4.8'"
      ]
     },
     "execution_count": 1,
     "metadata": {},
     "output_type": "execute_result"
    }
   ],
   "source": [
    "###\n",
    "!apt-get install openjdk-8-jdk-headless -qq > /dev/null\n",
    "!wget -q https://downloads.apache.org/spark/spark-2.4.8/spark-2.4.8-bin-hadoop2.7.tgz\n",
    "!tar xf spark-2.4.8-bin-hadoop2.7.tgz\n",
    "!pip install -q findspark\n",
    "\n",
    "###\n",
    "#All imports\n",
    "import os\n",
    "os.environ[\"JAVA_HOME\"] = \"/usr/lib/jvm/java-8-openjdk-amd64\"\n",
    "os.environ[\"SPARK_HOME\"] = \"/content/spark-2.4.8-bin-hadoop2.7\"\n",
    "import findspark\n",
    "findspark.init()\n",
    "from google.colab import files\n",
    "\n",
    "from pyspark import SparkContext, SparkConf,SQLContext\n",
    "from pyspark.sql import SparkSession\n",
    "\n",
    "###\n",
    "# create sparksession and sparkcontext\n",
    "sc = SparkContext.getOrCreate(SparkConf().setMaster(\"local[*]\"))\n",
    "\n",
    "spark = SparkSession \\\n",
    "    .builder \\\n",
    "    .getOrCreate()\n",
    "sqlContext = SQLContext(sc)\n",
    "\n",
    "###\n",
    "# to retrieve SparkContext version\n",
    "sc.version\n"
   ]
  },
  {
   "cell_type": "code",
   "execution_count": null,
   "metadata": {},
   "outputs": [],
   "source": [
    "print(sc.defaultParallelism)"
   ]
  }
 ],
 "metadata": {
  "colab": {
   "authorship_tag": "ABX9TyPAHmUai+UuKzdYlK3S8mSl",
   "name": "Verify-Spark-Colab.ipynb",
   "provenance": []
  },
  "kernelspec": {
   "display_name": "Python 3",
   "language": "python",
   "name": "python3"
  },
  "language_info": {
   "codemirror_mode": {
    "name": "ipython",
    "version": 3
   },
   "file_extension": ".py",
   "mimetype": "text/x-python",
   "name": "python",
   "nbconvert_exporter": "python",
   "pygments_lexer": "ipython3",
   "version": "3.8.6"
  }
 },
 "nbformat": 4,
 "nbformat_minor": 1
}
